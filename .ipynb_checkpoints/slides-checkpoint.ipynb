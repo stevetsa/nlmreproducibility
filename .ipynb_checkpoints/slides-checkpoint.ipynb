{
 "cells": [
  {
   "cell_type": "markdown",
   "metadata": {
    "slideshow": {
     "slide_type": "slide"
    }
   },
   "source": [
    "# Containerization for Reproducible Bioinformatics Research\n"
   ]
  },
  {
   "cell_type": "markdown",
   "metadata": {},
   "source": [
    "### Lessons from the NCI Cloud Resources and Hackathons"
   ]
  },
  {
   "cell_type": "markdown",
   "metadata": {
    "slideshow": {
     "slide_type": "-"
    }
   },
   "source": [
    "Steve Tsang, NCI-CBIIT<br>\n",
    "Prepared for NLM Reproducibility Workshop<br>\n",
    "9/4/2018 11-12PM<br>"
   ]
  },
  {
   "cell_type": "markdown",
   "metadata": {
    "slideshow": {
     "slide_type": "slide"
    }
   },
   "source": [
    "## Disclaimer"
   ]
  },
  {
   "cell_type": "markdown",
   "metadata": {},
   "source": [
    "The opinions/comments/assessment expressed in this presentation are the author's own and do not necessarily reflect the view of the National Cancer Institute or National Institutes of Health.\n",
    "<br><br>https://ethics.od.nih.gov/topics/Disclaimer.htm\n"
   ]
  },
  {
   "cell_type": "markdown",
   "metadata": {
    "slideshow": {
     "slide_type": "slide"
    }
   },
   "source": [
    "## Reproducibility and Containerization"
   ]
  },
  {
   "cell_type": "markdown",
   "metadata": {},
   "source": [
    "![](screenshots/spectrum.png)"
   ]
  },
  {
   "cell_type": "markdown",
   "metadata": {
    "slideshow": {
     "slide_type": "slide"
    }
   },
   "source": [
    "## \"Reproducibility software containers\" on Pubmed"
   ]
  },
  {
   "cell_type": "code",
   "execution_count": 1,
   "metadata": {
    "slideshow": {
     "slide_type": "skip"
    }
   },
   "outputs": [],
   "source": [
    "%matplotlib widget\n",
    "#%matplotlib notebook"
   ]
  },
  {
   "cell_type": "code",
   "execution_count": 2,
   "metadata": {
    "slideshow": {
     "slide_type": "skip"
    }
   },
   "outputs": [
    {
     "data": {
      "application/vnd.jupyter.widget-view+json": {
       "model_id": "8e2b2b9f4417468e930c0b19c59fbc2c",
       "version_major": 2,
       "version_minor": 0
      },
      "text/plain": [
       "FigureCanvasNbAgg()"
      ]
     },
     "metadata": {},
     "output_type": "display_data"
    }
   ],
   "source": [
    "#from pandas import Series\n",
    "#from matplotlib import pyplot\n",
    "#series = pd.read_csv('pubmed_result.csv', header=1)\n",
    "#print(series.head())\n",
    "\n",
    "\n",
    "import pandas as pd\n",
    "import matplotlib.pyplot as plt; plt.rcdefaults()\n",
    "import numpy as np\n",
    "import matplotlib.pyplot as plt\n",
    "\n",
    "df=pd.read_csv('pubmed_result.csv', header=0)\n",
    "#print(df.head())\n",
    "df['Date'] = pd.to_datetime(df['Date'], errors='coerce')\n",
    "(df.loc[df['Date'].dt.year.between(1989, 2018), 'Date']\n",
    "       .groupby(df['Date'].dt.year)\n",
    "       .count()\n",
    "       .plot(kind=\"bar\")\n",
    ")\n",
    "\n",
    "plt.ylabel(\"Number of Publications\")\n",
    "plt.xlabel(\"Year\")\n",
    "plt.title(\"Pubmed Search Results\")\n",
    "plt.show()\n",
    "\n"
   ]
  },
  {
   "cell_type": "markdown",
   "metadata": {
    "slideshow": {
     "slide_type": "-"
    }
   },
   "source": [
    "<img src=\"screenshots/pubmedplot.png\" width=\"800\">\n"
   ]
  },
  {
   "cell_type": "markdown",
   "metadata": {
    "slideshow": {
     "slide_type": "subslide"
    }
   },
   "source": [
    "![](screenshots/timeline.png)\n",
    "<center>Image Produced on Seven Bridges Cancer Genomics Cloud<br></center>\n",
    "<center>Workflow inspired by https://github.com/wilke/CWL-Quick-Start</center>"
   ]
  },
  {
   "cell_type": "markdown",
   "metadata": {
    "slideshow": {
     "slide_type": "slide"
    }
   },
   "source": [
    "## Reproducibility is Challenging"
   ]
  },
  {
   "cell_type": "markdown",
   "metadata": {},
   "source": [
    "![](screenshots/learnhackathon.png)"
   ]
  },
  {
   "cell_type": "markdown",
   "metadata": {
    "slideshow": {
     "slide_type": "slide"
    }
   },
   "source": [
    "## Cancer Genomic Data Challenges"
   ]
  },
  {
   "cell_type": "markdown",
   "metadata": {},
   "source": [
    "![](screenshots/challenges.png)"
   ]
  },
  {
   "cell_type": "markdown",
   "metadata": {
    "slideshow": {
     "slide_type": "slide"
    }
   },
   "source": [
    "## NCI Cloud Resources Concept"
   ]
  },
  {
   "cell_type": "markdown",
   "metadata": {},
   "source": [
    "![](screenshots/Concept.png)"
   ]
  },
  {
   "cell_type": "markdown",
   "metadata": {
    "slideshow": {
     "slide_type": "slide"
    }
   },
   "source": [
    "## NCI Cloud Resources"
   ]
  },
  {
   "cell_type": "markdown",
   "metadata": {},
   "source": [
    "![](screenshots/CR.png)"
   ]
  },
  {
   "cell_type": "markdown",
   "metadata": {
    "slideshow": {
     "slide_type": "slide"
    }
   },
   "source": [
    "![](screenshots/CRDC.png)\n"
   ]
  },
  {
   "cell_type": "markdown",
   "metadata": {
    "slideshow": {
     "slide_type": "slide"
    }
   },
   "source": [
    "## F.A.I.R Guiding Principles"
   ]
  },
  {
   "cell_type": "markdown",
   "metadata": {},
   "source": [
    "![](screenshots/fair.png)"
   ]
  },
  {
   "cell_type": "markdown",
   "metadata": {
    "slideshow": {
     "slide_type": "slide"
    }
   },
   "source": [
    "## \"Reproducibility Crisis\""
   ]
  },
  {
   "cell_type": "markdown",
   "metadata": {},
   "source": [
    "<center><img src=\"screenshots/fairanalysis.png\" width=\"800\"></center>"
   ]
  },
  {
   "cell_type": "markdown",
   "metadata": {
    "slideshow": {
     "slide_type": "slide"
    }
   },
   "source": [
    "## Containerization Technology "
   ]
  },
  {
   "cell_type": "markdown",
   "metadata": {},
   "source": [
    "<img src=\"screenshots/containercloud.png\" width=\"1200\">"
   ]
  },
  {
   "cell_type": "markdown",
   "metadata": {
    "slideshow": {
     "slide_type": "slide"
    }
   },
   "source": [
    "## Docker Concept"
   ]
  },
  {
   "cell_type": "markdown",
   "metadata": {},
   "source": [
    "<center><img src=\"screenshots/docker.png\" width=\"800\"></center>"
   ]
  },
  {
   "cell_type": "markdown",
   "metadata": {
    "slideshow": {
     "slide_type": "slide"
    }
   },
   "source": [
    "## Docker's Layered Filesystem"
   ]
  },
  {
   "cell_type": "code",
   "execution_count": 3,
   "metadata": {},
   "outputs": [
    {
     "name": "stdout",
     "output_type": "stream",
     "text": [
      "FROM ubuntu:16.04\r\n",
      "RUN apt-get update\r\n",
      "RUN apt-get install -y python3\r\n"
     ]
    }
   ],
   "source": [
    "!more Dockerfile  "
   ]
  },
  {
   "cell_type": "markdown",
   "metadata": {
    "slideshow": {
     "slide_type": "subslide"
    }
   },
   "source": [
    "```{}\n",
    "docker build -t sampleimage .\n",
    "```\n",
    "Step 1/3 : FROM ubuntu:16.04\n",
    " ---> 52b10959e8aa\n",
    "Step 2/3 : RUN apt-get update\n",
    "...\n",
    " ---> 3502c5bdd18a\n",
    "Step 3/3 : RUN apt-get install -y python3\n",
    "...\n",
    " ---> e0aac1c590b7\n",
    "Successfully built e0aac1c590b7\n",
    "Successfully tagged sampleimage:latest"
   ]
  },
  {
   "cell_type": "markdown",
   "metadata": {
    "slideshow": {
     "slide_type": "slide"
    }
   },
   "source": [
    "## Dockerfile"
   ]
  },
  {
   "cell_type": "markdown",
   "metadata": {},
   "source": [
    "![](screenshots/dockerfile.png)"
   ]
  },
  {
   "cell_type": "markdown",
   "metadata": {
    "slideshow": {
     "slide_type": "subslide"
    }
   },
   "source": [
    "```()\n",
    "docker build -t stevetsa/kallisto:latest .\n",
    "docker push stevetsa/kallisto:latest\n",
    "\n",
    "### push to GitHub and auto-build on Dockerhub\n",
    "docker pull stevetsa/kallisto:latest\n",
    "docker run -v `pwd`:`pwd` -w `pwd` -i -t stevetsa/kallisto\n",
    "```"
   ]
  },
  {
   "cell_type": "markdown",
   "metadata": {
    "slideshow": {
     "slide_type": "slide"
    }
   },
   "source": [
    "## Sharing Docker-based Tools"
   ]
  },
  {
   "cell_type": "markdown",
   "metadata": {},
   "source": [
    "<img src=\"screenshots/dockstore.png\" width=\"1200\">"
   ]
  },
  {
   "cell_type": "markdown",
   "metadata": {
    "slideshow": {
     "slide_type": "slide"
    }
   },
   "source": [
    "## Use Case 1"
   ]
  },
  {
   "cell_type": "markdown",
   "metadata": {},
   "source": [
    "<img src=\"screenshots/usecase1.png\">"
   ]
  },
  {
   "cell_type": "markdown",
   "metadata": {
    "slideshow": {
     "slide_type": "subslide"
    }
   },
   "source": [
    "<img src=\"screenshots/nastybugsworkflow.png\">"
   ]
  },
  {
   "cell_type": "markdown",
   "metadata": {
    "slideshow": {
     "slide_type": "subslide"
    }
   },
   "source": [
    "<img src=\"screenshots/nastybugsreviewer.png\">"
   ]
  },
  {
   "cell_type": "markdown",
   "metadata": {
    "slideshow": {
     "slide_type": "subslide"
    }
   },
   "source": [
    "<img src=\"screenshots/nastybugsgithub.png\">"
   ]
  },
  {
   "cell_type": "markdown",
   "metadata": {
    "slideshow": {
     "slide_type": "subslide"
    }
   },
   "source": [
    "<img src=\"screenshots/nastybugsdockerhub.png\">"
   ]
  },
  {
   "cell_type": "markdown",
   "metadata": {
    "slideshow": {
     "slide_type": "slide"
    }
   },
   "source": [
    "## Use Case 2"
   ]
  },
  {
   "cell_type": "markdown",
   "metadata": {},
   "source": [
    "<img src=\"screenshots/usecase2.png\">"
   ]
  },
  {
   "cell_type": "markdown",
   "metadata": {
    "slideshow": {
     "slide_type": "subslide"
    }
   },
   "source": [
    "August 2017 NCBI Hacakthon - RNAseq viewer<br><br>\n",
    "The goal of this project is to leverage web technologies to build a modular gene expression viewer for large-scale, complex experiments. The data included in this repo is just a sample of what can be achieved with this scheme by using Django and Polymer for optimal performance, ease of use, and consistency.\n",
    "\n",
    "\n",
    "\n"
   ]
  },
  {
   "cell_type": "markdown",
   "metadata": {
    "slideshow": {
     "slide_type": "subslide"
    }
   },
   "source": [
    "<img src=\"screenshots/viewer1.png\" width=\"800\">"
   ]
  },
  {
   "cell_type": "markdown",
   "metadata": {
    "slideshow": {
     "slide_type": "subslide"
    }
   },
   "source": [
    "<img src=\"screenshots/viewer2.png\" width=\"800\">"
   ]
  },
  {
   "cell_type": "markdown",
   "metadata": {
    "slideshow": {
     "slide_type": "subslide"
    }
   },
   "source": [
    "```{}\n",
    "docker run -itp 8000:8000 stevetsa/gea-image\n",
    "## in browser\n",
    "http://127.0.0.1:8000/genvis/ideogram\n",
    "```"
   ]
  },
  {
   "cell_type": "markdown",
   "metadata": {
    "slideshow": {
     "slide_type": "slide"
    }
   },
   "source": [
    "## Use Case 3"
   ]
  },
  {
   "cell_type": "markdown",
   "metadata": {
    "slideshow": {
     "slide_type": "-"
    }
   },
   "source": [
    "<img src=\"screenshots/usecase3.png\">\n"
   ]
  },
  {
   "cell_type": "markdown",
   "metadata": {
    "slideshow": {
     "slide_type": "subslide"
    }
   },
   "source": [
    "![](screenshots/UCSD1.png)"
   ]
  },
  {
   "cell_type": "markdown",
   "metadata": {
    "slideshow": {
     "slide_type": "subslide"
    }
   },
   "source": [
    "<img src=\"screenshots/UCSD2.png\" width=\"800\">"
   ]
  },
  {
   "cell_type": "code",
   "execution_count": 8,
   "metadata": {
    "slideshow": {
     "slide_type": "subslide"
    }
   },
   "outputs": [
    {
     "data": {
      "application/3dmoljs_load.v0": "<div id=\"3dmolviewer_15359529298826308\"  style=\"position: relative; width: 640px; height: 480px\">\n        <p id=\"3dmolwarning_15359529298826308\" style=\"background-color:#ffcccc;color:black\">You appear to be running in JupyterLab (or JavaScript failed to load for some other reason).  You need to install the 3dmol extension: <br>\n        <tt>jupyter labextension install jupyterlab_3dmol</tt></p>\n        </div>\n<script>\n\nvar loadScriptAsync = function(uri){\n  return new Promise((resolve, reject) => {\n    var tag = document.createElement('script');\n    tag.src = uri;\n    tag.async = true;\n    tag.onload = () => {\n      resolve();\n    };\n  var firstScriptTag = document.getElementsByTagName('script')[0];\n  firstScriptTag.parentNode.insertBefore(tag, firstScriptTag);\n});\n};\n\nif(typeof $3Dmolpromise === 'undefined') {\n$3Dmolpromise = null;\n  $3Dmolpromise = loadScriptAsync('https://3dmol.csb.pitt.edu/build/3Dmol.js');\n}\n\nvar viewer_15359529298826308 = null;\nvar warn = document.getElementById(\"3dmolwarning_15359529298826308\");\nif(warn) {\n    warn.parentNode.removeChild(warn);\n}\n$3Dmolpromise.then(function() {\nviewer_15359529298826308 = $3Dmol.createViewer($(\"#3dmolviewer_15359529298826308\"),{backgroundColor:\"white\"});\n$3Dmol.download(\"pdb:1OHR\", viewer_15359529298826308, {}, function() {\n\tviewer_15359529298826308.setStyle({\"chain\": \"A\"},{\"cartoon\": {\"color\": \"blue\"}});\n\tviewer_15359529298826308.setStyle({\"chain\": \"B\"},{\"cartoon\": {\"color\": \" yellow\"}});\n\tviewer_15359529298826308.addSurface(2,{\"opacity\": 0.9, \"color\": \"lightblue\"},{\"chain\": \"A\", \"hetflag\": false});\n\tviewer_15359529298826308.addSurface(2,{\"opacity\": 0.9, \"color\": \"lightyellow\"},{\"chain\": \"B\", \"hetflag\": false});\nviewer_15359529298826308.render();\n})\n});\n</script>",
      "text/html": [
       "<div id=\"3dmolviewer_15359529298826308\"  style=\"position: relative; width: 640px; height: 480px\">\n",
       "        <p id=\"3dmolwarning_15359529298826308\" style=\"background-color:#ffcccc;color:black\">You appear to be running in JupyterLab (or JavaScript failed to load for some other reason).  You need to install the 3dmol extension: <br>\n",
       "        <tt>jupyter labextension install jupyterlab_3dmol</tt></p>\n",
       "        </div>\n",
       "<script>\n",
       "\n",
       "var loadScriptAsync = function(uri){\n",
       "  return new Promise((resolve, reject) => {\n",
       "    var tag = document.createElement('script');\n",
       "    tag.src = uri;\n",
       "    tag.async = true;\n",
       "    tag.onload = () => {\n",
       "      resolve();\n",
       "    };\n",
       "  var firstScriptTag = document.getElementsByTagName('script')[0];\n",
       "  firstScriptTag.parentNode.insertBefore(tag, firstScriptTag);\n",
       "});\n",
       "};\n",
       "\n",
       "if(typeof $3Dmolpromise === 'undefined') {\n",
       "$3Dmolpromise = null;\n",
       "  $3Dmolpromise = loadScriptAsync('https://3dmol.csb.pitt.edu/build/3Dmol.js');\n",
       "}\n",
       "\n",
       "var viewer_15359529298826308 = null;\n",
       "var warn = document.getElementById(\"3dmolwarning_15359529298826308\");\n",
       "if(warn) {\n",
       "    warn.parentNode.removeChild(warn);\n",
       "}\n",
       "$3Dmolpromise.then(function() {\n",
       "viewer_15359529298826308 = $3Dmol.createViewer($(\"#3dmolviewer_15359529298826308\"),{backgroundColor:\"white\"});\n",
       "$3Dmol.download(\"pdb:1OHR\", viewer_15359529298826308, {}, function() {\n",
       "\tviewer_15359529298826308.setStyle({\"chain\": \"A\"},{\"cartoon\": {\"color\": \"blue\"}});\n",
       "\tviewer_15359529298826308.setStyle({\"chain\": \"B\"},{\"cartoon\": {\"color\": \" yellow\"}});\n",
       "\tviewer_15359529298826308.addSurface(2,{\"opacity\": 0.9, \"color\": \"lightblue\"},{\"chain\": \"A\", \"hetflag\": false});\n",
       "\tviewer_15359529298826308.addSurface(2,{\"opacity\": 0.9, \"color\": \"lightyellow\"},{\"chain\": \"B\", \"hetflag\": false});\n",
       "viewer_15359529298826308.render();\n",
       "})\n",
       "});\n",
       "</script>"
      ]
     },
     "metadata": {},
     "output_type": "display_data"
    }
   ],
   "source": [
    "import py3Dmol\n",
    "viewer = py3Dmol.view(query='pdb:1OHR')\n",
    "viewer.setStyle({'chain': 'A'}, {'cartoon': {'color': 'blue'}})\n",
    "viewer.setStyle({'chain': 'B'}, {'cartoon': {'color':' yellow'}})\n",
    "viewer.addSurface(py3Dmol.MS,{'opacity':0.9,'color':'lightblue'},{'chain': 'A', 'hetflag' : False})                   \n",
    "viewer.addSurface(py3Dmol.MS,{'opacity':0.9,'color':'lightyellow'},{'chain': 'B', 'hetflag' : False})\n",
    "viewer.show()"
   ]
  },
  {
   "cell_type": "code",
   "execution_count": 10,
   "metadata": {
    "slideshow": {
     "slide_type": "subslide"
    }
   },
   "outputs": [
    {
     "data": {
      "application/3dmoljs_load.v0": "<div id=\"3dmolviewer_15359529530559397\"  style=\"position: relative; width: 640px; height: 480px\">\n        <p id=\"3dmolwarning_15359529530559397\" style=\"background-color:#ffcccc;color:black\">You appear to be running in JupyterLab (or JavaScript failed to load for some other reason).  You need to install the 3dmol extension: <br>\n        <tt>jupyter labextension install jupyterlab_3dmol</tt></p>\n        </div>\n<script>\n\nvar loadScriptAsync = function(uri){\n  return new Promise((resolve, reject) => {\n    var tag = document.createElement('script');\n    tag.src = uri;\n    tag.async = true;\n    tag.onload = () => {\n      resolve();\n    };\n  var firstScriptTag = document.getElementsByTagName('script')[0];\n  firstScriptTag.parentNode.insertBefore(tag, firstScriptTag);\n});\n};\n\nif(typeof $3Dmolpromise === 'undefined') {\n$3Dmolpromise = null;\n  $3Dmolpromise = loadScriptAsync('https://3dmol.csb.pitt.edu/build/3Dmol.js');\n}\n\nvar viewer_15359529530559397 = null;\nvar warn = document.getElementById(\"3dmolwarning_15359529530559397\");\nif(warn) {\n    warn.parentNode.removeChild(warn);\n}\n$3Dmolpromise.then(function() {\nviewer_15359529530559397 = $3Dmol.createViewer($(\"#3dmolviewer_15359529530559397\"),{backgroundColor:\"white\"});\n$3Dmol.download(\"pdb:1OHR\", viewer_15359529530559397, {}, function() {\n\tviewer_15359529530559397.setStyle({\"chain\": \"A\"},{\"cartoon\": {\"color\": \"blue\"}});\n\tviewer_15359529530559397.setStyle({\"chain\": \"B\"},{\"cartoon\": {\"color\": \" yellow\"}});\n\tviewer_15359529530559397.addSurface(2,{\"opacity\": 0.9, \"color\": \"lightblue\"},{\"chain\": \"A\", \"hetflag\": false});\n\tviewer_15359529530559397.addSurface(2,{\"opacity\": 0.9, \"color\": \"lightyellow\"},{\"chain\": \"B\", \"hetflag\": false});\n\tviewer_15359529530559397.setStyle({\"resn\": \"1UN\"},{\"stick\": {\"radius\": 0.3, \"singleBond\": false}});\n\tviewer_15359529530559397.addLabel(\"Nelfinavir\",{\"fontColor\": \"black\", \"backgroundColor\": \"lightgray\"},{\"resn\": \"1UN\"});\n\tviewer_15359529530559397.zoomTo({\"resn\": \"1UN\"});\n\tviewer_15359529530559397.setStyle({\"resn\": \"1UN\"},{\"stick\": {\"radius\": 0.3, \"singleBond\": false}});\n\tviewer_15359529530559397.addLabel(\"Nelfinavir\",{\"fontColor\": \"black\", \"backgroundColor\": \"lightgray\"},{\"resn\": \"1UN\"});\n\tviewer_15359529530559397.zoomTo({\"resn\": \"1UN\"});\nviewer_15359529530559397.render();\n})\n});\n</script>",
      "text/html": [
       "<div id=\"3dmolviewer_15359529530559397\"  style=\"position: relative; width: 640px; height: 480px\">\n",
       "        <p id=\"3dmolwarning_15359529530559397\" style=\"background-color:#ffcccc;color:black\">You appear to be running in JupyterLab (or JavaScript failed to load for some other reason).  You need to install the 3dmol extension: <br>\n",
       "        <tt>jupyter labextension install jupyterlab_3dmol</tt></p>\n",
       "        </div>\n",
       "<script>\n",
       "\n",
       "var loadScriptAsync = function(uri){\n",
       "  return new Promise((resolve, reject) => {\n",
       "    var tag = document.createElement('script');\n",
       "    tag.src = uri;\n",
       "    tag.async = true;\n",
       "    tag.onload = () => {\n",
       "      resolve();\n",
       "    };\n",
       "  var firstScriptTag = document.getElementsByTagName('script')[0];\n",
       "  firstScriptTag.parentNode.insertBefore(tag, firstScriptTag);\n",
       "});\n",
       "};\n",
       "\n",
       "if(typeof $3Dmolpromise === 'undefined') {\n",
       "$3Dmolpromise = null;\n",
       "  $3Dmolpromise = loadScriptAsync('https://3dmol.csb.pitt.edu/build/3Dmol.js');\n",
       "}\n",
       "\n",
       "var viewer_15359529530559397 = null;\n",
       "var warn = document.getElementById(\"3dmolwarning_15359529530559397\");\n",
       "if(warn) {\n",
       "    warn.parentNode.removeChild(warn);\n",
       "}\n",
       "$3Dmolpromise.then(function() {\n",
       "viewer_15359529530559397 = $3Dmol.createViewer($(\"#3dmolviewer_15359529530559397\"),{backgroundColor:\"white\"});\n",
       "$3Dmol.download(\"pdb:1OHR\", viewer_15359529530559397, {}, function() {\n",
       "\tviewer_15359529530559397.setStyle({\"chain\": \"A\"},{\"cartoon\": {\"color\": \"blue\"}});\n",
       "\tviewer_15359529530559397.setStyle({\"chain\": \"B\"},{\"cartoon\": {\"color\": \" yellow\"}});\n",
       "\tviewer_15359529530559397.addSurface(2,{\"opacity\": 0.9, \"color\": \"lightblue\"},{\"chain\": \"A\", \"hetflag\": false});\n",
       "\tviewer_15359529530559397.addSurface(2,{\"opacity\": 0.9, \"color\": \"lightyellow\"},{\"chain\": \"B\", \"hetflag\": false});\n",
       "\tviewer_15359529530559397.setStyle({\"resn\": \"1UN\"},{\"stick\": {\"radius\": 0.3, \"singleBond\": false}});\n",
       "\tviewer_15359529530559397.addLabel(\"Nelfinavir\",{\"fontColor\": \"black\", \"backgroundColor\": \"lightgray\"},{\"resn\": \"1UN\"});\n",
       "\tviewer_15359529530559397.zoomTo({\"resn\": \"1UN\"});\n",
       "\tviewer_15359529530559397.setStyle({\"resn\": \"1UN\"},{\"stick\": {\"radius\": 0.3, \"singleBond\": false}});\n",
       "\tviewer_15359529530559397.addLabel(\"Nelfinavir\",{\"fontColor\": \"black\", \"backgroundColor\": \"lightgray\"},{\"resn\": \"1UN\"});\n",
       "\tviewer_15359529530559397.zoomTo({\"resn\": \"1UN\"});\n",
       "viewer_15359529530559397.render();\n",
       "})\n",
       "});\n",
       "</script>"
      ]
     },
     "metadata": {},
     "output_type": "display_data"
    }
   ],
   "source": [
    "ligand = {'resn': '1UN'}\n",
    "viewer.setStyle(ligand, {'stick':{'radius': 0.3, 'singleBond': False}})\n",
    "viewer.addLabel('Nelfinavir', {'fontColor':'black', 'backgroundColor':'lightgray'},ligand)\n",
    "viewer.zoomTo(ligand)\n",
    "viewer.show()"
   ]
  },
  {
   "cell_type": "markdown",
   "metadata": {
    "slideshow": {
     "slide_type": "slide"
    }
   },
   "source": [
    "## Discussions"
   ]
  },
  {
   "cell_type": "markdown",
   "metadata": {
    "slideshow": {
     "slide_type": "subslide"
    }
   },
   "source": [
    "## Will the same Dockerfile always produce identical images?"
   ]
  },
  {
   "cell_type": "markdown",
   "metadata": {
    "slideshow": {
     "slide_type": "subslide"
    }
   },
   "source": [
    "- Defining reproducibility\n",
    "- Containerization allows you to run legacy software\n",
    "    - Reproducibility vs “security”\n",
    "- Containerization simplifies the process to run software\n",
    "- Containerization provides an isolated environment for testing \n",
    "- Sharing images/containers\n",
    "    - Samtools in Dockerhub - defining “identical” images for tools and workflows\n",
    "- Tool documentation\n",
    "    Best practices (e.g. Dockerfiles) to minimize trial and error\n",
    "- Training/education\n",
    "\n"
   ]
  },
  {
   "cell_type": "markdown",
   "metadata": {
    "slideshow": {
     "slide_type": "slide"
    }
   },
   "source": [
    "## NCI Containers and Workflows Interest Group\n",
    "[Discussions and Meetings](https://goo.gl/gccfB7)"
   ]
  },
  {
   "cell_type": "markdown",
   "metadata": {
    "slideshow": {
     "slide_type": "-"
    }
   },
   "source": [
    "-  Initiate cross-NCI strategy to:\n",
    "    -  facilitate scientific computing standards, guidelines & best practices\n",
    "    -  share methods to promote reproducible science\n",
    "    -  democratize computational research and benefit the community using these methods\n",
    "-  Discuss approaches and possible technical solutions for describing scientific workflows and sharing containerized tools developed by NCI-funded programs\n",
    "\n",
    "\n"
   ]
  },
  {
   "cell_type": "markdown",
   "metadata": {
    "slideshow": {
     "slide_type": "subslide"
    }
   },
   "source": [
    "-  Build a community of practice and discussing relevant topics in container and workflow technologies\n",
    "-  Approx. 130 members joined since Sept 2016\n",
    "-  Monthly meetings - https://goo.gl/gccfB7\n",
    "-  Presentations/Lectures\n",
    "    -  Survey rapidly-evolving fields of container and workflow technologies and invite outside experts to inform and educate members of the Working Group\n",
    "    -  Use cases from Cloud Resources; Community efforts  - GA4GH challenge, Dockstore, BioContainers, CWL; various scientific domains - genomics, microbe, neuroscience, imaging, etc. "
   ]
  },
  {
   "cell_type": "markdown",
   "metadata": {
    "slideshow": {
     "slide_type": "slide"
    }
   },
   "source": [
    "## Additional Resources "
   ]
  },
  {
   "cell_type": "markdown",
   "metadata": {
    "slideshow": {
     "slide_type": "-"
    }
   },
   "source": [
    "- [Bioconda](https://bioconda.github.io/)\n",
    "- [Bioconductor Docker Containers](https://www.bioconductor.org/help/docker/)\n",
    "- [BioContainers](https://biocontainers.pro/)\n",
    "- [Bioboxes](http://bioboxes.org/)\n",
    "- [NCBI Base Images](https://github.com/NCBI-Hackathons/HackathonBaseImages)\n",
    "\n",
    "Awesome Containers - <br>\n",
    "[Awesome Containers](https://github.com/tcnksm/awesome-container); [Awesome Linux Containers](https://github.com/Friz-zy/awesome-linux-containers); [Awesome Docker](https://github.com/veggiemonk/awesome-docker)\n",
    "\n",
    "Container Registries - <br>\n",
    "[Docker Hub](http://www.dockerhub.com/);  [Quay.io](https://quay.io/repository/); [Dockstore](https://dockstore.org/);  [Singularity Hub](https://www.singularity-hub.org);  [Google Container Registry](https://cloud.google.com/container-registry/); [AWS Container Registry](https://aws.amazon.com/ecr/);  [Azure Container Registry](https://azure.microsoft.com/en-us/services/container-registry/);  [Seven Bridges Image Registry](https://docs.sevenbridges.com/docs/the-image-registry);  [GitLab Container Registry](https://about.gitlab.com/2016/05/23/gitlab-container-registry/);  [DGX/Nvidia Container Registry](https://www.nvidia.com/en-us/gpu-cloud/deep-learning-containers/)\n",
    "\n"
   ]
  },
  {
   "cell_type": "markdown",
   "metadata": {
    "slideshow": {
     "slide_type": "slide"
    }
   },
   "source": [
    "## Acknowledgement"
   ]
  },
  {
   "cell_type": "markdown",
   "metadata": {},
   "source": [
    "![](screenshots/ack.png)"
   ]
  },
  {
   "cell_type": "markdown",
   "metadata": {
    "slideshow": {
     "slide_type": "slide"
    }
   },
   "source": [
    "## About this presentation..."
   ]
  },
  {
   "cell_type": "markdown",
   "metadata": {
    "slideshow": {
     "slide_type": "skip"
    }
   },
   "source": [
    "# Publishing on binder"
   ]
  },
  {
   "cell_type": "markdown",
   "metadata": {
    "slideshow": {
     "slide_type": "skip"
    }
   },
   "source": [
    "In order for a binder-hosted notebook to start in slideshow mode, you need to have the following tag set in the notebook metadata:\n",
    "\n",
    "    ...\n",
    "    \"rise\": {\n",
    "            \"autolaunch\": true\n",
    "            }\n",
    "    ...\n",
    "\n",
    "You can edit the notebook metadata from the `Edit` menu, submenu `Edit notebook metadata`.\n",
    "\n",
    "Note finally that the `rise` key in this JSON file used to be named `livereveal`. The latter is still honored, but the former takes precedence, and it is recommended to use only `rise` from now on."
   ]
  }
 ],
 "metadata": {
  "celltoolbar": "Slideshow",
  "kernelspec": {
   "display_name": "Python 3",
   "language": "python",
   "name": "python3"
  },
  "language_info": {
   "codemirror_mode": {
    "name": "ipython",
    "version": 3
   },
   "file_extension": ".py",
   "mimetype": "text/x-python",
   "name": "python",
   "nbconvert_exporter": "python",
   "pygments_lexer": "ipython3",
   "version": "3.6.4"
  },
  "livereveal": {
   "autolaunch": true,
   "enable_chalkboard": false
  },
  "rise": {
   "autolaunch": true
  }
 },
 "nbformat": 4,
 "nbformat_minor": 2
}
